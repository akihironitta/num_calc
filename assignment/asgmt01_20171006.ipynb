{
 "cells": [
  {
   "cell_type": "markdown",
   "metadata": {},
   "source": [
    "# 数値計算  \n",
    "- **Submission date**: 2017/10/06  \n",
    "- **Team**: へび  \n",
    "- **Members**:  \n",
    "    + #5531 Akihiro Nitta  \n",
    "    + #5557 Yuki Kotakehara  \n",
    "    + #5501 Kazunori Sakai  "
   ]
  },
  {
   "cell_type": "markdown",
   "metadata": {},
   "source": [
    "## モジュールの読み込み  \n",
    "- [NumPy](http://www.numpy.org) is the main package for scientific computing with Python.  "
   ]
  },
  {
   "cell_type": "code",
   "execution_count": 1,
   "metadata": {
    "collapsed": true
   },
   "outputs": [],
   "source": [
    "import numpy as np"
   ]
  },
  {
   "cell_type": "markdown",
   "metadata": {},
   "source": [
    "## 2.2.4 課題  p. 14\n",
    "1. printfを使って次のように表示せよ.  \n",
    "   i) Hello world.  ii) 1+1=2  \n",
    "1. 次の数を順に表示せよ．  \n",
    "    i)1から5までの整数．  \n",
    "    ii) 5から1までの整数.  \n",
    "    iii) 1から10にある偶数．  \n",
    "1. 9x9表を作れ．  \n",
    "1. 1 から 5 までの和を求めよ.  \n",
    "1. nを5にして，n!=n×(n−1)×(n−2)⋯3×2×1n!=n×(n−1)×(n−1)⋯3×2×1を求めよ.  "
   ]
  },
  {
   "cell_type": "code",
   "execution_count": 2,
   "metadata": {},
   "outputs": [
    {
     "name": "stdout",
     "output_type": "stream",
     "text": [
      "Hello world\n",
      "1+1=2\n"
     ]
    }
   ],
   "source": [
    "# 1. \n",
    "# i)\n",
    "print('Hello world')\n",
    "# ii)\n",
    "print('1+1=2')"
   ]
  },
  {
   "cell_type": "code",
   "execution_count": 3,
   "metadata": {},
   "outputs": [
    {
     "name": "stdout",
     "output_type": "stream",
     "text": [
      "i)\n",
      "1 2 3 4 5 \n",
      "ii)\n",
      "5 4 3 2 1 \n",
      "iii)\n",
      "2 4 6 8 10 "
     ]
    }
   ],
   "source": [
    "# 2.\n",
    "# i)\n",
    "print('i)')\n",
    "for i in range(1, 5+1):\n",
    "    print(i, end=' ')\n",
    "# ii)\n",
    "print('\\nii)')\n",
    "for i in reversed(range(1, 5+1)):\n",
    "    print(str(i), end=' ')\n",
    "# iii)\n",
    "print('\\niii)')\n",
    "for i in range(1, 10+1):\n",
    "    if i % 2 == 0:\n",
    "        print(i, end=' ')"
   ]
  },
  {
   "cell_type": "code",
   "execution_count": 4,
   "metadata": {},
   "outputs": [
    {
     "name": "stdout",
     "output_type": "stream",
     "text": [
      "1 2 3 4 5 6 7 8 9 \n",
      "2 4 6 8 10 12 14 16 18 \n",
      "3 6 9 12 15 18 21 24 27 \n",
      "4 8 12 16 20 24 28 32 36 \n",
      "5 10 15 20 25 30 35 40 45 \n",
      "6 12 18 24 30 36 42 48 54 \n",
      "7 14 21 28 35 42 49 56 63 \n",
      "8 16 24 32 40 48 56 64 72 \n",
      "9 18 27 36 45 54 63 72 81 \n"
     ]
    }
   ],
   "source": [
    "# 3.\n",
    "for i in range(1, 10):\n",
    "    for j in range(1, 10):\n",
    "        print(str(i*j), end=' ')\n",
    "    print('')"
   ]
  },
  {
   "cell_type": "code",
   "execution_count": 5,
   "metadata": {},
   "outputs": [
    {
     "name": "stdout",
     "output_type": "stream",
     "text": [
      "sum = 15\n"
     ]
    }
   ],
   "source": [
    "# 4.\n",
    "sum = 0\n",
    "for i in range(1, 6):\n",
    "    sum = sum + i\n",
    "print('sum = ' + str(sum))"
   ]
  },
  {
   "cell_type": "code",
   "execution_count": 6,
   "metadata": {},
   "outputs": [
    {
     "name": "stdout",
     "output_type": "stream",
     "text": [
      "5! = 120\n"
     ]
    }
   ],
   "source": [
    "# 5.\n",
    "n = 5\n",
    "factorial = 1\n",
    "for i in range(1, n+1):\n",
    "    factorial = factorial * i\n",
    "print(str(n) + '! = ' + str(factorial))"
   ]
  },
  {
   "cell_type": "markdown",
   "metadata": {},
   "source": [
    "## 2.3.8 課題  p. 20  \n",
    "1. 1から100までの整数のうち5個をランダムに含んだ配列を生成せよ．  \n",
    "1. さいころを１００回振って，出た目１から６が何回出たかを表示せよ．  \n",
    "1. コイン６枚を一度に投げて，表向きの枚数を数えるプログラムを書け．  \n",
    "1. 0から9までの整数5個から5桁の整数を作れ．（１桁目が０になっても気にするな）  \n",
    "1. 小数点以下8桁のそれぞれの桁の数を配列に格納せよ．  \n",
    "1. 255以下の10進数をランダムに生成して，8桁の2進数へ変換せよ．  "
   ]
  },
  {
   "cell_type": "code",
   "execution_count": 7,
   "metadata": {},
   "outputs": [
    {
     "name": "stdout",
     "output_type": "stream",
     "text": [
      "[35 15 87 96 53]\n"
     ]
    }
   ],
   "source": [
    "# 1.\n",
    "array = np.random.randint(1, 101, 5)\n",
    "print(array)"
   ]
  },
  {
   "cell_type": "code",
   "execution_count": 8,
   "metadata": {},
   "outputs": [
    {
     "name": "stdout",
     "output_type": "stream",
     "text": [
      "[ 12.  19.  20.  16.  16.  17.]\n"
     ]
    }
   ],
   "source": [
    "# 2.\n",
    "count = np.zeros(6)\n",
    "\n",
    "for i in range(100):\n",
    "    count[np.random.randint(0, 6)] += 1\n",
    "    \n",
    "print(count)"
   ]
  },
  {
   "cell_type": "code",
   "execution_count": 9,
   "metadata": {},
   "outputs": [
    {
     "name": "stdout",
     "output_type": "stream",
     "text": [
      "3\n"
     ]
    }
   ],
   "source": [
    "# 3.\n",
    "coin = np.random.rand(6)\n",
    "coin = coin>0.5\n",
    "print(coin.sum())"
   ]
  },
  {
   "cell_type": "code",
   "execution_count": 10,
   "metadata": {},
   "outputs": [
    {
     "name": "stdout",
     "output_type": "stream",
     "text": [
      "[3 0 9 3 0] 30930\n"
     ]
    }
   ],
   "source": [
    "# 4.\n",
    "values = np.random.randint(0, 10, 5)\n",
    "value = 0\n",
    "\n",
    "for v in values:\n",
    "    value *= 10\n",
    "    value += v\n",
    "\n",
    "print(values, value)\n"
   ]
  },
  {
   "cell_type": "code",
   "execution_count": 11,
   "metadata": {},
   "outputs": [
    {
     "name": "stdout",
     "output_type": "stream",
     "text": [
      "0.9806237266570639\n",
      "[ 9.  8.  0.  6.  2.  3.  7.  2.]\n"
     ]
    }
   ],
   "source": [
    "# 5.\n",
    "value = np.random.rand()\n",
    "array = np.array([])\n",
    "\n",
    "print(value)\n",
    "for i in range(8):\n",
    "    value = value - int(value)\n",
    "    value = value*10\n",
    "    array = np.append(array, int(value))\n",
    "\n",
    "print(array)\n",
    "\n"
   ]
  },
  {
   "cell_type": "code",
   "execution_count": 12,
   "metadata": {
    "scrolled": false
   },
   "outputs": [
    {
     "name": "stdout",
     "output_type": "stream",
     "text": [
      "value:  163\n",
      "bin_value:  0b10100011\n"
     ]
    }
   ],
   "source": [
    "# 6.\n",
    "value = np.random.randint(0, 256)\n",
    "bin_value = bin(value)\n",
    "print('value: ', value)\n",
    "print('bin_value: ', bin_value)"
   ]
  },
  {
   "cell_type": "markdown",
   "metadata": {},
   "source": [
    "## 2.4.4 課題  p. 24  \n",
    "1. 西暦を代入したら，明治，大正，昭和，平成で答えてくれるプログラムを作成せよ．西暦1868,1912,1926,1989年をそれぞれの元年とする．  \n",
    "1. 整数を代入したら，それ以下の素数をすべて表示するプログラムを作れ．素数かどうかの判定はMapleコマンドのisprimeを用いよ．  \n",
    "1. pが素数でp+2も素数のとき，これらは双子の素数と呼ばれる．10以上，100以下の双子の素数を全部見つけて出力せよ．  \n",
    "1. 素数判定を原理から実現せよ．ある数nが素数かどうか(自分自身の数nと1以外の数で割りきれないかどうか)を判定せよ．割り算の余り(剰余)はiremで求まる．  \n",
    "    例えばとして変数residue(余りの英語)をprintfしてみよ．番兵を置いておいて，n­1から2までの数でnを次々と割っていき，一度でも割り切れれば番兵にマークをつける．ループが終わった後に番兵のマークを見て素数(prime number)かどうかを判定すればよい．\n",
    "1. うるう年かどうかを表示するプログラムをかけ．\n",
    "    うるう年は4で割り切れる数の年．ただし，100で割り切れる年はうるう年でなく，400で割り切れる年はうるう年．  \n",
    "1. **ゴールドバッハの予想**  \n",
    "    「6以上の偶数は二つの素数の和として表わされる」という予想を100以下の偶数について検証せよ．あらかじめ100までの素数をリストアップしておいてそのなかから組み合わせを探すと便利  "
   ]
  },
  {
   "cell_type": "code",
   "execution_count": 13,
   "metadata": {
    "scrolled": true
   },
   "outputs": [
    {
     "name": "stdout",
     "output_type": "stream",
     "text": [
      "year >>> 1923\n",
      "大正12年\n"
     ]
    }
   ],
   "source": [
    "# 1.\n",
    "year = int(input('year >>> '))\n",
    "year_jp = 0\n",
    "\n",
    "# 平成\n",
    "if year >= 1989:\n",
    "    year_jp = year - 1989 + 1\n",
    "    print('平成' + str(year_jp) + '年')\n",
    "# 昭和\n",
    "elif year >= 1926:\n",
    "    year_jp = year - 1926 + 1\n",
    "    print('昭和' + str(year_jp) + '年')\n",
    "# 大正\n",
    "elif year >= 1912:\n",
    "    year_jp = year - 1912 + 1\n",
    "    print('大正' + str(year_jp) + '年')\n",
    "# 明治\n",
    "elif year >= 1868:\n",
    "    year_jp = year - 1868 + 1\n",
    "    print('明治' + str(year_jp) + '年')\n",
    "# それ以外\n",
    "else:\n",
    "    print('unknown')"
   ]
  },
  {
   "cell_type": "code",
   "execution_count": 14,
   "metadata": {
    "scrolled": true
   },
   "outputs": [
    {
     "name": "stdout",
     "output_type": "stream",
     "text": [
      "value > 13\n",
      "True\n",
      "2\n",
      "3\n",
      "5\n",
      "7\n",
      "11\n",
      "13\n"
     ]
    }
   ],
   "source": [
    "# 2.\n",
    "def isprime(num):\n",
    "    '''\n",
    "    Arguments:\n",
    "    num -- 素数判定対象のint値\n",
    "    \n",
    "    Returns:\n",
    "    True/False -- 素数であるか否か\n",
    "    '''\n",
    "    buff = num\n",
    "    bool_prime = True\n",
    "    for i in range(2, num):\n",
    "        if buff % i == 0:\n",
    "            bool_prime = False\n",
    "            break\n",
    "    return bool_prime\n",
    "\n",
    "value = int(input('value > '))\n",
    "print(isprime(value))\n",
    "\n",
    "for i in range(2, value+1):\n",
    "    if isprime(i):\n",
    "        print(i)"
   ]
  },
  {
   "cell_type": "code",
   "execution_count": 15,
   "metadata": {
    "scrolled": true
   },
   "outputs": [
    {
     "name": "stdout",
     "output_type": "stream",
     "text": [
      "11, 13\n",
      "17, 19\n",
      "29, 31\n",
      "41, 43\n",
      "59, 61\n",
      "71, 73\n"
     ]
    }
   ],
   "source": [
    "# 3.\n",
    "for i in range(10, 100+1):\n",
    "    if isprime(i) and isprime(i+2): # 2. で作成した関数 isprime を使用\n",
    "        print(str(i) + ', ' + str(i+2))"
   ]
  },
  {
   "cell_type": "code",
   "execution_count": 16,
   "metadata": {},
   "outputs": [
    {
     "name": "stdout",
     "output_type": "stream",
     "text": [
      "n > 13\n",
      "13 % 12 = 1\n",
      "13 % 11 = 2\n",
      "13 % 10 = 3\n",
      "13 % 9 = 4\n",
      "13 % 8 = 5\n",
      "13 % 7 = 6\n",
      "13 % 6 = 1\n",
      "13 % 5 = 3\n",
      "13 % 4 = 1\n",
      "13 % 3 = 1\n",
      "13 % 2 = 1\n",
      "13 is a prime number.\n"
     ]
    }
   ],
   "source": [
    "# 4.\n",
    "n = int(input(\"n > \"))\n",
    "bool_prime = True\n",
    "for i in reversed(range(2, n)):\n",
    "    residue = n%i\n",
    "    print('{0} % {1} = {2}'.format(n, i, residue))\n",
    "    if residue==0:\n",
    "        bool_prime = False\n",
    "        break\n",
    "    \n",
    "if bool_prime:\n",
    "    print(n, \"is a prime number.\")\n",
    "else:\n",
    "    print(n, \"is not a prime number.\")\n"
   ]
  },
  {
   "cell_type": "code",
   "execution_count": 17,
   "metadata": {},
   "outputs": [
    {
     "name": "stdout",
     "output_type": "stream",
     "text": [
      "year > 1922\n",
      "1922 はうるう年でない\n"
     ]
    }
   ],
   "source": [
    "# 5.\n",
    "year = int(input(\"year > \"))\n",
    "\n",
    "if year%400 == 0:\n",
    "    print(year, \"はうるう年\")\n",
    "elif year%100 == 0:\n",
    "    print(year, \"はうるう年でない\")\n",
    "elif year%4 == 0:\n",
    "    print(year, \"はうるう年\")\n",
    "else:\n",
    "    print(year, \"はうるう年でない\")"
   ]
  },
  {
   "cell_type": "code",
   "execution_count": 18,
   "metadata": {},
   "outputs": [
    {
     "name": "stdout",
     "output_type": "stream",
     "text": [
      "[2, 3, 5, 7, 11, 13, 17, 19, 23, 29, 31, 37, 41, 43, 47, 53, 59, 61, 67, 71, 73, 79, 83, 89, 97]\n",
      "6=3+3\n",
      "8=3+5\n",
      "8=5+3\n",
      "10=3+7\n",
      "10=5+5\n",
      "10=7+3\n",
      "12=5+7\n",
      "12=7+5\n",
      "14=3+11\n",
      "14=7+7\n",
      "14=11+3\n",
      "16=3+13\n",
      "16=5+11\n",
      "16=11+5\n",
      "16=13+3\n",
      "18=5+13\n",
      "18=7+11\n",
      "18=11+7\n",
      "18=13+5\n",
      "20=3+17\n",
      "20=7+13\n",
      "20=13+7\n",
      "20=17+3\n",
      "22=3+19\n",
      "22=5+17\n",
      "22=11+11\n",
      "22=17+5\n",
      "22=19+3\n",
      "24=5+19\n",
      "24=7+17\n",
      "24=11+13\n",
      "24=13+11\n",
      "24=17+7\n",
      "24=19+5\n",
      "26=3+23\n",
      "26=7+19\n",
      "26=13+13\n",
      "26=19+7\n",
      "26=23+3\n",
      "28=5+23\n",
      "28=11+17\n",
      "28=17+11\n",
      "28=23+5\n",
      "30=7+23\n",
      "30=11+19\n",
      "30=13+17\n",
      "30=17+13\n",
      "30=19+11\n",
      "30=23+7\n",
      "32=3+29\n",
      "32=13+19\n",
      "32=19+13\n",
      "32=29+3\n",
      "34=3+31\n",
      "34=5+29\n",
      "34=11+23\n",
      "34=17+17\n",
      "34=23+11\n",
      "34=29+5\n",
      "34=31+3\n",
      "36=5+31\n",
      "36=7+29\n",
      "36=13+23\n",
      "36=17+19\n",
      "36=19+17\n",
      "36=23+13\n",
      "36=29+7\n",
      "36=31+5\n",
      "38=7+31\n",
      "38=19+19\n",
      "38=31+7\n",
      "40=3+37\n",
      "40=11+29\n",
      "40=17+23\n",
      "40=23+17\n",
      "40=29+11\n",
      "40=37+3\n",
      "42=5+37\n",
      "42=11+31\n",
      "42=13+29\n",
      "42=19+23\n",
      "42=23+19\n",
      "42=29+13\n",
      "42=31+11\n",
      "42=37+5\n",
      "44=3+41\n",
      "44=7+37\n",
      "44=13+31\n",
      "44=31+13\n",
      "44=37+7\n",
      "44=41+3\n",
      "46=3+43\n",
      "46=5+41\n",
      "46=17+29\n",
      "46=23+23\n",
      "46=29+17\n",
      "46=41+5\n",
      "46=43+3\n",
      "48=5+43\n",
      "48=7+41\n",
      "48=11+37\n",
      "48=17+31\n",
      "48=19+29\n",
      "48=29+19\n",
      "48=31+17\n",
      "48=37+11\n",
      "48=41+7\n",
      "48=43+5\n",
      "50=3+47\n",
      "50=7+43\n",
      "50=13+37\n",
      "50=19+31\n",
      "50=31+19\n",
      "50=37+13\n",
      "50=43+7\n",
      "50=47+3\n",
      "52=5+47\n",
      "52=11+41\n",
      "52=23+29\n",
      "52=29+23\n",
      "52=41+11\n",
      "52=47+5\n",
      "54=7+47\n",
      "54=11+43\n",
      "54=13+41\n",
      "54=17+37\n",
      "54=23+31\n",
      "54=31+23\n",
      "54=37+17\n",
      "54=41+13\n",
      "54=43+11\n",
      "54=47+7\n",
      "56=3+53\n",
      "56=13+43\n",
      "56=19+37\n",
      "56=37+19\n",
      "56=43+13\n",
      "56=53+3\n",
      "58=5+53\n",
      "58=11+47\n",
      "58=17+41\n",
      "58=29+29\n",
      "58=41+17\n",
      "58=47+11\n",
      "58=53+5\n",
      "60=7+53\n",
      "60=13+47\n",
      "60=17+43\n",
      "60=19+41\n",
      "60=23+37\n",
      "60=29+31\n",
      "60=31+29\n",
      "60=37+23\n",
      "60=41+19\n",
      "60=43+17\n",
      "60=47+13\n",
      "60=53+7\n",
      "62=3+59\n",
      "62=19+43\n",
      "62=31+31\n",
      "62=43+19\n",
      "62=59+3\n",
      "64=3+61\n",
      "64=5+59\n",
      "64=11+53\n",
      "64=17+47\n",
      "64=23+41\n",
      "64=41+23\n",
      "64=47+17\n",
      "64=53+11\n",
      "64=59+5\n",
      "64=61+3\n",
      "66=5+61\n",
      "66=7+59\n",
      "66=13+53\n",
      "66=19+47\n",
      "66=23+43\n",
      "66=29+37\n",
      "66=37+29\n",
      "66=43+23\n",
      "66=47+19\n",
      "66=53+13\n",
      "66=59+7\n",
      "66=61+5\n",
      "68=7+61\n",
      "68=31+37\n",
      "68=37+31\n",
      "68=61+7\n",
      "70=3+67\n",
      "70=11+59\n",
      "70=17+53\n",
      "70=23+47\n",
      "70=29+41\n",
      "70=41+29\n",
      "70=47+23\n",
      "70=53+17\n",
      "70=59+11\n",
      "70=67+3\n",
      "72=5+67\n",
      "72=11+61\n",
      "72=13+59\n",
      "72=19+53\n",
      "72=29+43\n",
      "72=31+41\n",
      "72=41+31\n",
      "72=43+29\n",
      "72=53+19\n",
      "72=59+13\n",
      "72=61+11\n",
      "72=67+5\n",
      "74=3+71\n",
      "74=7+67\n",
      "74=13+61\n",
      "74=31+43\n",
      "74=37+37\n",
      "74=43+31\n",
      "74=61+13\n",
      "74=67+7\n",
      "74=71+3\n",
      "76=3+73\n",
      "76=5+71\n",
      "76=17+59\n",
      "76=23+53\n",
      "76=29+47\n",
      "76=47+29\n",
      "76=53+23\n",
      "76=59+17\n",
      "76=71+5\n",
      "76=73+3\n",
      "78=5+73\n",
      "78=7+71\n",
      "78=11+67\n",
      "78=17+61\n",
      "78=19+59\n",
      "78=31+47\n",
      "78=37+41\n",
      "78=41+37\n",
      "78=47+31\n",
      "78=59+19\n",
      "78=61+17\n",
      "78=67+11\n",
      "78=71+7\n",
      "78=73+5\n",
      "80=7+73\n",
      "80=13+67\n",
      "80=19+61\n",
      "80=37+43\n",
      "80=43+37\n",
      "80=61+19\n",
      "80=67+13\n",
      "80=73+7\n",
      "82=3+79\n",
      "82=11+71\n",
      "82=23+59\n",
      "82=29+53\n",
      "82=41+41\n",
      "82=53+29\n",
      "82=59+23\n",
      "82=71+11\n",
      "82=79+3\n",
      "84=5+79\n",
      "84=11+73\n",
      "84=13+71\n",
      "84=17+67\n",
      "84=23+61\n",
      "84=31+53\n",
      "84=37+47\n",
      "84=41+43\n",
      "84=43+41\n",
      "84=47+37\n",
      "84=53+31\n",
      "84=61+23\n",
      "84=67+17\n",
      "84=71+13\n",
      "84=73+11\n",
      "84=79+5\n",
      "86=3+83\n",
      "86=7+79\n",
      "86=13+73\n",
      "86=19+67\n",
      "86=43+43\n",
      "86=67+19\n",
      "86=73+13\n",
      "86=79+7\n",
      "86=83+3\n",
      "88=5+83\n",
      "88=17+71\n",
      "88=29+59\n",
      "88=41+47\n",
      "88=47+41\n",
      "88=59+29\n",
      "88=71+17\n",
      "88=83+5\n",
      "90=7+83\n",
      "90=11+79\n",
      "90=17+73\n",
      "90=19+71\n",
      "90=23+67\n",
      "90=29+61\n",
      "90=31+59\n",
      "90=37+53\n",
      "90=43+47\n",
      "90=47+43\n",
      "90=53+37\n",
      "90=59+31\n",
      "90=61+29\n",
      "90=67+23\n",
      "90=71+19\n",
      "90=73+17\n",
      "90=79+11\n",
      "90=83+7\n",
      "92=3+89\n",
      "92=13+79\n",
      "92=19+73\n",
      "92=31+61\n",
      "92=61+31\n",
      "92=73+19\n",
      "92=79+13\n",
      "92=89+3\n",
      "94=5+89\n",
      "94=11+83\n",
      "94=23+71\n",
      "94=41+53\n",
      "94=47+47\n",
      "94=53+41\n",
      "94=71+23\n",
      "94=83+11\n",
      "94=89+5\n",
      "96=7+89\n",
      "96=13+83\n",
      "96=17+79\n",
      "96=23+73\n",
      "96=29+67\n",
      "96=37+59\n",
      "96=43+53\n",
      "96=53+43\n",
      "96=59+37\n",
      "96=67+29\n",
      "96=73+23\n",
      "96=79+17\n",
      "96=83+13\n",
      "96=89+7\n",
      "98=19+79\n",
      "98=31+67\n",
      "98=37+61\n",
      "98=61+37\n",
      "98=67+31\n",
      "98=79+19\n",
      "100=3+97\n",
      "100=11+89\n",
      "100=17+83\n",
      "100=29+71\n",
      "100=41+59\n",
      "100=47+53\n",
      "100=53+47\n",
      "100=59+41\n",
      "100=71+29\n",
      "100=83+17\n",
      "100=89+11\n",
      "100=97+3\n"
     ]
    }
   ],
   "source": [
    "# 6.\n",
    "def isprime(num):\n",
    "    '''\n",
    "    Arguments:\n",
    "    num -- 素数判定対象のint値\n",
    "    \n",
    "    Returns:\n",
    "    True/False -- 素数であるか否か\n",
    "    '''\n",
    "    buff = num\n",
    "    bool_prime = True\n",
    "    for i in range(2, num):\n",
    "        if buff % i == 0:\n",
    "            bool_prime = False\n",
    "            break\n",
    "    return bool_prime\n",
    "\n",
    "list_prime = []\n",
    "for i in range(2, 101):\n",
    "    if isprime(i):\n",
    "        list_prime.append(i)\n",
    "        \n",
    "print(list_prime)\n",
    "        \n",
    "for i in range(6, 101, 2):\n",
    "    for j in range(len(list_prime)):\n",
    "        for k in range(len(list_prime)):\n",
    "            if(list_prime[j]+list_prime[k]>i):\n",
    "                break\n",
    "            elif(list_prime[j]+list_prime[k]==i):\n",
    "                print('{0}={1}+{2}'.format(i, list_prime[j], list_prime[k]))\n",
    "                break"
   ]
  },
  {
   "cell_type": "markdown",
   "metadata": {},
   "source": [
    "## 2.4.5 課題  p. 29\n",
    "1. **三角形の面積**  \n",
    "    底辺と高さを引数として，面積を返す関数areaを作れ．  \n",
    "\n",
    "1. **MyIsprime**  \n",
    "    前章の課題４で求めた素数判定プログラムをprocにせよ．  \n",
    "\n",
    "1. **ルートの距離二つの位置座標**  \n",
    "    x1:=[0.0, 0.0] x2:=[1.0, 1.0]から距離を求めるMyDistance関数を作れ．次に，4つの位置座標 x[1]=[0.0, 0.0] x[2]=[1.0, 1.0] x[3]=[1.0, 0.0] x[4]=[0.0, 1.0] を読み込んで，座標順に[1,2,3,4,1]と巡る距離を求めよ．  \n",
    "\n",
    "1. **最大数**  \n",
    "    ランダムな整数が格納されたリストを受け取り，そのリスト中の最大数を返す関数MyMaxを作れ．1から100までのランダムな整数のリストは次のようにして作れる．  "
   ]
  },
  {
   "cell_type": "code",
   "execution_count": 19,
   "metadata": {},
   "outputs": [
    {
     "name": "stdout",
     "output_type": "stream",
     "text": [
      "area: 60.0\n"
     ]
    }
   ],
   "source": [
    "# 1. 三角形の面積\n",
    "def area(base, height):\n",
    "    '''\n",
    "    Arguments:\n",
    "    base -- 三角形の底辺\n",
    "    height -- 三角形の高さ\n",
    "    \n",
    "    Returns:\n",
    "    三角形の面積\n",
    "    '''\n",
    "    return base*height/2.0\n",
    "\n",
    "# 1. test\n",
    "print('area: ' + str(area(10, 12)))"
   ]
  },
  {
   "cell_type": "code",
   "execution_count": 20,
   "metadata": {},
   "outputs": [
    {
     "name": "stdout",
     "output_type": "stream",
     "text": [
      "41 : True\n",
      "2 : True\n",
      "82 : False\n"
     ]
    }
   ],
   "source": [
    "# 2. MyIsPrime\n",
    "def MyIsprime(num):\n",
    "    '''\n",
    "    Arguments:\n",
    "    num --整数\n",
    "    \n",
    "    Returns:\n",
    "    true or false\n",
    "    '''\n",
    "    bool_prime = True\n",
    "    for i in reversed(range(2, num)):\n",
    "        residue = num%i\n",
    "        if residue==0:\n",
    "            bool_prime = False\n",
    "            break\n",
    "    return bool_prime\n",
    "\n",
    "# 2. test\n",
    "num1= 41\n",
    "num2 = 2\n",
    "print('{0} : {1}'.format(num1, MyIsprime(num1)))\n",
    "print('{0} : {1}'.format(num2, MyIsprime(num2)))\n",
    "print('{0} : {1}'.format(num1*num2, MyIsprime(num1*num2)))"
   ]
  },
  {
   "cell_type": "code",
   "execution_count": 21,
   "metadata": {
    "scrolled": false
   },
   "outputs": [
    {
     "name": "stdout",
     "output_type": "stream",
     "text": [
      "x: [[0.0, 0.0], [1.0, 1.0], [1.0, 0.0], [0.0, 1.0]]\n",
      "x[0][0.0, 0.0]とx[1][1.0, 1.0]の距離は　1.41421356237\n",
      "[0.0, 0.0]→[1.0, 1.0]→[1.0, 0.0]→[0.0, 1.0]→[0.0, 0.0] と巡る距離は　4.82842712474619\n"
     ]
    }
   ],
   "source": [
    "# 3. ルートの距離2つの位置座標\n",
    "def MyDistance(p1, p2):\n",
    "    '''\n",
    "    Arguments:\n",
    "    p1, p2 -- 距離計算対象の2点\n",
    "    \n",
    "    Returns:\n",
    "    2点間の距離\n",
    "    '''\n",
    "    p1 = np.array(p1)\n",
    "    p2 = np.array(p2)\n",
    "    return np.linalg.norm(p1-p2)\n",
    "\n",
    "# 3. test\n",
    "x = [[0.0, 0.0], [1.0, 1.0], [1.0, 0.0], [0.0, 1.0]]\n",
    "print('x: ' + str(x))\n",
    "x.append(x[0]) #x[4]=x[0]\n",
    "print(\"x[0]{0}とx[1]{1}の距離は　\".format(x[0], x[1]) +str(MyDistance(x[0], x[1])))\n",
    "\n",
    "ans = 0\n",
    "for i in range(0, 4):\n",
    "    ans = ans + MyDistance(x[i], x[i+1])\n",
    "    \n",
    "print('{0}→{1}→{2}→{3}→{4} と巡る距離は　{5}'.format(x[0], x[1], x[2], x[3], x[4], ans))"
   ]
  },
  {
   "cell_type": "code",
   "execution_count": 22,
   "metadata": {},
   "outputs": [
    {
     "name": "stdout",
     "output_type": "stream",
     "text": [
      "[31 47 56 74  9]\n",
      "74\n"
     ]
    }
   ],
   "source": [
    "# 4. 最大数\n",
    "def MyMax(array):\n",
    "    '''\n",
    "    Arguments:\n",
    "    array -- np.array配列（int）\n",
    "    \n",
    "    Returns:\n",
    "    arrayの要素の最大値\n",
    "    '''\n",
    "    assert(array.dtype=='int64') # intかチェック\n",
    "    return np.max(array)\n",
    "\n",
    "# 4. test\n",
    "array = np.random.randint(1, 100+1, 5)\n",
    "print(array)\n",
    "print(MyMax(array))"
   ]
  }
 ],
 "metadata": {
  "kernelspec": {
   "display_name": "Python 3",
   "language": "python",
   "name": "python3"
  },
  "language_info": {
   "codemirror_mode": {
    "name": "ipython",
    "version": 3
   },
   "file_extension": ".py",
   "mimetype": "text/x-python",
   "name": "python",
   "nbconvert_exporter": "python",
   "pygments_lexer": "ipython3",
   "version": "3.6.1"
  }
 },
 "nbformat": 4,
 "nbformat_minor": 2
}
