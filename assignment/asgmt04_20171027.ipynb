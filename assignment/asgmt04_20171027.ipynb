{
 "cells": [
  {
   "cell_type": "markdown",
   "metadata": {},
   "source": [
    "# 数値計算  \n",
    "- **Submission date**: 2017/10/27\n",
    "- **Team**: へび  \n",
    "- **Members**:  \n",
    "    + #5501 Kazunori Sakai  \n",
    "    + #5531 Akihiro Nitta  \n",
    "    + #5557 Yuki Kotakehara  "
   ]
  },
  {
   "cell_type": "markdown",
   "metadata": {},
   "source": [
    "## モジュールの読み込み  \n",
    "- [NumPy](http://www.numpy.org)  \n",
    "- [matplotlib](https://matplotlib.org/)"
   ]
  },
  {
   "cell_type": "code",
   "execution_count": 1,
   "metadata": {
    "collapsed": true
   },
   "outputs": [],
   "source": [
    "import numpy as np\n",
    "import matplotlib.pyplot as plt\n",
    "from pprint import pprint\n",
    "import scipy.linalg as linalg"
   ]
  },
  {
   "cell_type": "markdown",
   "metadata": {},
   "source": [
    "## 3.8 課題 [p. 30]\n",
    "**1**. 下の図は \n",
    "$\n",
    "A :=\n",
    "\\left(\n",
    "\\begin{array}{ccc}\n",
    "3 & 2/3 \\\\\n",
    "2/3 & 2  \\\\\n",
    "\\end{array}\n",
    "\\right)\n",
    "$\n",
    "を用いて変換される像を表わしている．この行列の固有値，行列式が何処に対応するか説明せよ．また，固有ベクトルの方向を記せ．(2007年度期末試験)\n",
    "\n",
    "<img src=\"./figs/asgmt04_fig1.png\">"
   ]
  },
  {
   "cell_type": "code",
   "execution_count": 2,
   "metadata": {},
   "outputs": [
    {
     "name": "stdout",
     "output_type": "stream",
     "text": [
      "transformation matrix:\n",
      "[[ 3.     0.667]\n",
      " [ 0.667  2.   ]]\n",
      "eigenvalues:\n",
      "[ 3.333  1.667]\n",
      "eigenvectors:\n",
      "[[ 0.894 -0.447]\n",
      " [ 0.447  0.894]]\n",
      "X: (2, 32)\n",
      "A: (2, 2)\n",
      "X_: (2, 32)\n",
      "x: (32,)\n",
      "y: (32,)\n",
      "eig_values: (2,)\n",
      "eig_vectors: (2, 2)\n"
     ]
    }
   ],
   "source": [
    "np.set_printoptions(precision=3, suppress=True)\n",
    "\n",
    "a = np.array([[3,2/3], [2/3,2]])\n",
    "\n",
    "l,P = np.linalg.eig(a)\n",
    "pprint(l)\n",
    "pprint(P)\n",
    "\n",
    "v0 = P[:,0]\n",
    "v1 = P[:,1]\n",
    "pprint(v0)\n",
    "pprint(v1)"
   ]
  },
  {
   "cell_type": "code",
   "execution_count": 8,
   "metadata": {},
   "outputs": [
    {
     "data": {
      "image/png": "[encoded data removed]",
      "text/plain": [
       "<matplotlib.figure.Figure at 0x1117771d0>"
      ]
     },
     "metadata": {},
     "output_type": "display_data"
    }
   ],
   "source": [
    "# setting\n",
    "np.set_printoptions(precision=3, suppress=True)\n",
    "\n",
    "# generate data matrix\n",
    "def f(x):\n",
    "    return np.sqrt(1-x**2)\n",
    "theta = np.linspace(0, 2*np.pi, 32)\n",
    "x = np.cos(theta)\n",
    "y = np.sin(theta)\n",
    "X = np.array([[x[i], y[i]] for i in range(len(x))])\n",
    "X = X.T\n",
    "\n",
    "# define transformation matrix\n",
    "A = np.array([[3, 2/3], [2/3, 2]])\n",
    "\n",
    "t=7\n",
    "plt.plot([-t*v0[0],t*v0[0]], [-t*v0[1],t*v0[1]], color='g', linestyle='-', linewidth=2)\n",
    "t=5\n",
    "plt.plot([-t*v1[0],t*v1[0]], [-t*v1[1],t*v1[1]], color='g', linestyle='-', linewidth=2)\n",
    "\n",
    "\n",
    "# calculate eigenvalues and eigenvectors\n",
    "## eig_vectors[:, i]がeig_values[i]に対応する\n",
    "eig_values, eig_vectors= np.linalg.eig(A)\n",
    "\n",
    "\n",
    "# calculate the determinant of A\n",
    "det_A = np.linalg.det(A)\n",
    "\n",
    "print('transformation matrix:\\n' + str(A))\n",
    "print('eigenvalues:\\n' + str(eig_values))\n",
    "print('eigenvectors:\\n' + str(eig_vectors))\n",
    "print('X: ' + str(X.shape))\n",
    "print('A: ' + str(A.shape))\n",
    "print('X_: ' + str(X_.shape))\n",
    "print('x: ' + str(x.shape))\n",
    "print('y: ' + str(y.shape))\n",
    "print('eig_values: ' + str(eig_values.shape))\n",
    "print('eig_vectors: ' + str(eig_vectors.shape))\n",
    "\n",
    "# draw graph\n",
    "## plot the data\n",
    "plt.plot(X[0, :], X[1, :], 'o', color='red')\n",
    "## plot the transformed data\n",
    "plt.plot(X_[0, :], X_[1, :], 'x', color='red')\n",
    "## plot lines between the original data and transformed data\n",
    "for i in range(len(x)):\n",
    "    plt.plot([X[0, i], X_[0, i]], [X[1, i], X_[1, i]], linestyle='-', color='#0000ff')\n",
    "## draw eigenvectors\n",
    "### lengths of the arrows are weighted with their eigenvalues\n",
    "plt.quiver(0, 0, eig_values[0]*eig_vectors[0, 0], eig_values[0]*eig_vectors[1, 0], angles='xy', scale_units='xy', scale=1, color='#00ff00')\n",
    "plt.quiver(0, 0, eig_values[1]*eig_vectors[0, 1], eig_values[1]*eig_vectors[1, 1], angles='xy', scale_units='xy', scale=1, color='#00ff00')\n",
    "## format graph\n",
    "plt.hlines(0, -4, 4, color='black', linestyle='-')\n",
    "plt.vlines(0, -3, 3, color='black', linestyle='-')\n",
    "plt.grid(color='#9f9f9f')\n",
    "plt.axis('equal')\n",
    "plt.xlim(-4, 4)\n",
    "plt.ylim(-3, 3)\n",
    "plt.show()"
   ]
  },
  {
   "cell_type": "markdown",
   "metadata": {},
   "source": [
    "### 説明  \n",
    "\n",
    "#### 固有値  \n",
    "- 各点が，その固有値に属する固有ベクトル方向へ，その固有値倍されることに対応する．  \n",
    "\n",
    "#### 行列式  \n",
    "- 正方行列 $A$ による写像を $f$ とする．\n",
    "    - $\\det A \\ne 0$ の時，写像 $f$ は全単射となる．即ち，核空間 $Ker A = \\{{\\bf 0}\\} $ となる．また，核空間が $\\{\\bf 0\\}$ であることからわかるように，逆写像を作ることができるため，変換行列 $A$ の逆行列 $A^{-1}$ が存在する．\n",
    "    - $\\det A = 0$ の時，写像 $f$ はとなる．即ち，核空間 $Ker A \\ne \\{{\\bf 0}\\} $ となる．この時写った先では，次元数が写像元空間の次元数未満となるため，逆写像を用いて完全に復元することができなくなる．\n",
    "- この問題の行列では，その行列式の値は0ではないので，次元数が変わらず，像空間は$\\mathbb{R}^2$となる．これは上の図からも確認することができる．\n",
    "\n",
    "- 正方行列 $A$ を成す全ての列ベクトル，もしくは全ての行ベクトルで構成される平行四辺形の面積 $S$ は行列式 $\\det A$ で計算することができる．（ただし，$S$ は正負の値どちらも取りうる．）  [参考資料: 線型代数学，著・笠原晧司，サイエンス社]"
   ]
  },
  {
   "cell_type": "markdown",
   "metadata": {},
   "source": [
    "---\n",
    "## Note  \n",
    "- データ行列$X$ ($D\\times N$行列)  \n",
    "    - $D$: データ点の次元数  \n",
    "    - $N$: データ数  \n",
    "$$ X = ({\\bf x}_1,...,{\\bf x}_N)$$  \n",
    "\n",
    "- データ点${\\bf x}_i$\n",
    "$${\\bf x}_i = (x_i, y_i)^{\\rm T}$$\n",
    "\n",
    "- `numpy.linalg.eig(A)` についてのメモ [[doc](https://docs.scipy.org/doc/numpy/reference/generated/numpy.linalg.eig.html)]  \n",
    "    + **入力**: **正方**行列（NumPy配列 $M\\times M$ ）  \n",
    "    + **出力**: 固有値の配列，固有ベクトルの配列  \n",
    "    + **使用例**\n",
    "    ```python  \n",
    "    A = np.array([[1, 2, 3], [4, 5, 6], [7, 8, 9]])\n",
    "    eig_vals, eig_vecs = np.linalg.eig(A)\n",
    "    ```  \n",
    "    + **注意**: 固有ベクトル `v[:, i]` は，固有値 `eig_vals[i]` に対応する\n",
    "    + `scipy.linalg.eig`もあるみたい．  違いは知らない．  "
   ]
  }
 ],
 "metadata": {
  "kernelspec": {
   "display_name": "Python 3",
   "language": "python",
   "name": "python3"
  },
  "language_info": {
   "codemirror_mode": {
    "name": "ipython",
    "version": 3
   },
   "file_extension": ".py",
   "mimetype": "text/x-python",
   "name": "python",
   "nbconvert_exporter": "python",
   "pygments_lexer": "ipython3",
   "version": "3.6.2"
  }
 },
 "nbformat": 4,
 "nbformat_minor": 2
}
