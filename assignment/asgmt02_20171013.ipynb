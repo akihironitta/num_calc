{
 "cells": [
  {
   "cell_type": "markdown",
   "metadata": {},
   "source": [
    "# 数値計算  \n",
    "- **Submission date**: 2017/10/13\n",
    "- **Team**: へび  \n",
    "- **Members**:  \n",
    "    + #5501 Kazunori Sakai  \n",
    "    + #5531 Akihiro Nitta  \n",
    "    + #5557 Yuki Kotakehara  "
   ]
  },
  {
   "cell_type": "markdown",
   "metadata": {},
   "source": [
    "## モジュールの読み込み  \n",
    "- [NumPy](http://www.numpy.org)  \n",
    "- [SciPy](https://www.scipy.org/)  \n",
    "- [Matplotlib](https://matplotlib.org/)"
   ]
  },
  {
   "cell_type": "code",
   "execution_count": 1,
   "metadata": {
    "collapsed": true
   },
   "outputs": [],
   "source": [
    "import numpy as np\n",
    "from scipy import optimize\n",
    "import matplotlib.pyplot as plt"
   ]
  },
  {
   "cell_type": "markdown",
   "metadata": {},
   "source": [
    "## 1.9 課題 p.13  \n",
    "\n",
    "- **2.** 次の関数 `f(x)=exp(−x)−2exp(−2x)` の解を二分法，Newton法で求めよ．　　\n",
    "- **3.** 代数方程式に関する次の課題に答えよ．(2004年度期末試験)　　\n",
    "    - (a) `exp(-x)=x**2` を二分法及びニュートン法で解け．　　\n",
    "    - (b) n回目の値x_nと小数点以下10桁まで求めた値x_f=0.7034674225との差Δx_nの絶対値(abs)のlogをnの関数としてプロットし，その収束性を比較せよ．また，その傾きの違いを両解法の原理から説明せよ．  "
   ]
  },
  {
   "cell_type": "code",
   "execution_count": 2,
   "metadata": {},
   "outputs": [
    {
     "name": "stdout",
     "output_type": "stream",
     "text": [
      "bisection: 0.6931471805603451\n",
      "newton: 0.69314718056\n"
     ]
    }
   ],
   "source": [
    "# 2\n",
    "def f(x):\n",
    "    return np.exp(-x)-2*np.exp(-2*x)\n",
    "\n",
    "def df(x):\n",
    "    return -np.exp(-x)+4*np.exp(-2*x)\n",
    "\n",
    "## bisection\n",
    "solution1 = optimize.bisect(f, -5, 5)\n",
    "\n",
    "## Newton\n",
    "solution2 = optimize.newton(f, 1, df)\n",
    "\n",
    "print('bisection: ' + str(solution1))\n",
    "print('newton: ' + str(solution2))"
   ]
  },
  {
   "cell_type": "code",
   "execution_count": 3,
   "metadata": {},
   "outputs": [
    {
     "name": "stdout",
     "output_type": "stream",
     "text": [
      "newton\n",
      "x= 0.703467422498\n",
      "x1              f1             \n",
      "1.0000000000    -0.6321205588285576659757226\n",
      "0.7330436052    -0.0569084480040253914978621\n",
      "0.7038077863    -0.0006473915387465445370196\n",
      "0.7034674683    -0.0000000871660306156485376\n",
      "0.7034674225    -0.0000000000000014988010832\n",
      "0.7034674225    +0.0000000000000000000000000\n",
      "0.7034674225    +0.0000000000000000000000000\n",
      "0.7034674225    +0.0000000000000000000000000\n",
      "0.7034674225    +0.0000000000000000000000000\n",
      "0.7034674225    +0.0000000000000000000000000\n",
      "0.7034674225    +0.0000000000000000000000000\n",
      "0.7034674225    +0.0000000000000000000000000\n",
      "0.7034674225    +0.0000000000000000000000000\n",
      "0.7034674225    +0.0000000000000000000000000\n",
      "0.7034674225    +0.0000000000000000000000000\n",
      "0.7034674225    +0.0000000000000000000000000\n",
      "0.7034674225    +0.0000000000000000000000000\n",
      "0.7034674225    +0.0000000000000000000000000\n",
      "0.7034674225    +0.0000000000000000000000000\n",
      "0.7034674225    +0.0000000000000000000000000\n",
      "bisection\n",
      "x1              x2              f1              f2             \n",
      "0.5000000000    1.0000000000    0.3565306597    -0.6321205588  \n",
      "0.5000000000    0.7500000000    0.3565306597    -0.0901334473  \n",
      "0.6250000000    0.7500000000    0.1446364285    -0.0901334473  \n",
      "0.6875000000    0.7500000000    0.0301753280    -0.0901334473  \n",
      "0.6875000000    0.7187500000    0.0301753280    -0.0292404858  \n",
      "0.7031250000    0.7187500000    0.0006511313    -0.0292404858  \n",
      "0.7031250000    0.7109375000    0.0006511313    -0.0142486319  \n",
      "0.7031250000    0.7070312500    0.0006511313    -0.0067872536  \n",
      "0.7031250000    0.7050781250    0.0006511313    -0.0030651888  \n",
      "0.7031250000    0.7041015625    0.0006511313    -0.0012063109  \n",
      "0.7031250000    0.7036132812    0.0006511313    -0.0002774104  \n",
      "0.7033691406    0.7036132812    0.0001869053    -0.0002774104  \n",
      "0.7033691406    0.7034912109    0.0001869053    -0.0000452413  \n",
      "0.7034301758    0.7034912109    0.0000708348    -0.0000452413  \n",
      "0.7034606934    0.7034912109    0.0000127975    -0.0000452413  \n",
      "0.7034606934    0.7034759521    0.0000127975    -0.0000162218  \n",
      "0.7034606934    0.7034683228    0.0000127975    -0.0000017121  \n",
      "0.7034645081    0.7034683228    0.0000055427    -0.0000017121  \n",
      "0.7034664154    0.7034683228    0.0000019153    -0.0000017121  \n",
      "0.7034673691    0.7034683228    0.0000001016    -0.0000017121  \n"
     ]
    },
    {
     "data": {
      "image/png": "[encoded data removed]",
      "text/plain": [
       "<matplotlib.figure.Figure at 0x11983ec88>"
      ]
     },
     "metadata": {},
     "output_type": "display_data"
    }
   ],
   "source": [
    "# 3 (a)\n",
    "def func(x):\n",
    "    return np.exp(-x)-x*x\n",
    "\n",
    "def dfunc(x):\n",
    "    return -np.exp(-x)-2*x\n",
    "\n",
    "## newton\n",
    "print('newton')\n",
    "def newton_method(x, eps, n):\n",
    "    \"\"\"\n",
    "    Arguments:\n",
    "    x:初期値\n",
    "    eps:収束条件\n",
    "    n:繰り返し回数\n",
    "\n",
    "    Returns:\n",
    "    if(n<0):収束した解\n",
    "    if(n>=0):n回目の解\n",
    "\n",
    "    \"\"\"\n",
    "\n",
    "    count = 0\n",
    "    while True:\n",
    "\n",
    "        x2 = x - func(x) / dfunc(x)\n",
    "        count = count + 1\n",
    "        \n",
    "        if(n >= 0 and count > n):\n",
    "            return x2\n",
    "\n",
    "        elif(abs(x2-x) < eps):\n",
    "            return x2\n",
    "\n",
    "        x = x2\n",
    "\n",
    "\n",
    "x = newton_method(10.0, 0.0000001, -1) #初期値10\n",
    "print(\"x=\", x)\n",
    "\n",
    "x0 = x\n",
    "\n",
    "x1 = 1.0\n",
    "f1 = func(x1)\n",
    "print('%-15s %-15s'  % ('x1','f1'))\n",
    "\n",
    "list_newton = [[0],[x1]]\n",
    "\n",
    "for i in range(20):\n",
    "    print('%-15.10f %+24.25f' % (x1,f1))\n",
    "    x1 = x1 - f1 / dfunc(x1)\n",
    "    f1 = func(x1)\n",
    "    list_newton[0].append(i)\n",
    "    list_newton[1].append(abs(x1-x0))\n",
    "\n",
    "\n",
    "## bisection\n",
    "print(\"bisection\")\n",
    "x1, x2 = 0.0, 1.0\n",
    "f1, f2 = func(x1), func(x2)\n",
    "print('%-15s %-15s %-15s %-15s'  % ('x1','x2','f1','f2'))\n",
    "\n",
    "list_bisec = [[0],[abs(x1-x)]]\n",
    "\n",
    "for i in range(20):\n",
    "    x = (x1+x2)/2\n",
    "    f = func(x)\n",
    "    if(f*f1>=0.0):\n",
    "        x1, f1 = x, f\n",
    "        list_bisec[0].append(i)\n",
    "        list_bisec[1].append(abs(x1-x0))\n",
    "    else:\n",
    "        x2, f2 = x, f\n",
    "        list_bisec[0].append(i)\n",
    "        list_bisec[1].append(abs(x2-x0))\n",
    "    print('%-15.10f %-15.10f %-15.10f %-15.10f' % (x1, x2, f1, f2))\n",
    "\n",
    "# 3 (b)\n",
    "X = list_bisec[0]\n",
    "Y = list_bisec[1]\n",
    "\n",
    "plt.plot(X, Y)\n",
    "\n",
    "X = list_newton[0]\n",
    "Y = list_newton[1]\n",
    "\n",
    "plt.plot(X, Y)\n",
    "\n",
    "plt.yscale(\"log\")\n",
    "plt.show()"
   ]
  }
 ],
 "metadata": {
  "kernelspec": {
   "display_name": "Python 3",
   "language": "python",
   "name": "python3"
  },
  "language_info": {
   "codemirror_mode": {
    "name": "ipython",
    "version": 3
   },
   "file_extension": ".py",
   "mimetype": "text/x-python",
   "name": "python",
   "nbconvert_exporter": "python",
   "pygments_lexer": "ipython3",
   "version": "3.6.1"
  }
 },
 "nbformat": 4,
 "nbformat_minor": 2
}
