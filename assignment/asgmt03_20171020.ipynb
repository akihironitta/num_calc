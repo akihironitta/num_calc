{
 "cells": [
  {
   "cell_type": "markdown",
   "metadata": {},
   "source": [
    "# 数値計算  \n",
    "- **Submission date**: 2017/10/20\n",
    "- **Team**: へび  \n",
    "- **Members**:  \n",
    "    + #5501 Kazunori Sakai  \n",
    "    + #5531 Akihiro Nitta  \n",
    "    + #5557 Yuki Kotakehara  "
   ]
  },
  {
   "cell_type": "markdown",
   "metadata": {},
   "source": [
    "## モジュールの読み込み  \n",
    "- [NumPy](http://www.numpy.org)  \n",
    "- decimal"
   ]
  },
  {
   "cell_type": "code",
   "execution_count": null,
   "metadata": {
    "collapsed": true
   },
   "outputs": [],
   "source": [
    "from decimal import *\n",
    "import numpy as np"
   ]
  },
  {
   "cell_type": "markdown",
   "metadata": {},
   "source": [
    "## 2.5 桁落ち，情報落ち，積み残し (Cancellation) p.18"
   ]
  },
  {
   "cell_type": "code",
   "execution_count": 4,
   "metadata": {},
   "outputs": [
    {
     "name": "stdout",
     "output_type": "stream",
     "text": [
      "桁落ち\n",
      "0.723657\n",
      "0.723649\n",
      "8.000000000008e-06\n",
      "0.00000800000\n",
      "情報落ち\n",
      "72365.7\n",
      "1.23659\n",
      "72366.93659\n",
      "72366.9\n",
      "積み残し\n",
      "72365.7\n",
      "0.001\n",
      "72365.701\n",
      "72365.7\n"
     ]
    }
   ],
   "source": [
    "getcontext().prec = 6\n",
    "\n",
    "# 桁落ち\n",
    "a = 0.723657\n",
    "b = 0.723649\n",
    "result=Decimal(a)-Decimal(b)\n",
    "print('桁落ち')\n",
    "print(a)\n",
    "print(b)\n",
    "print(a-b)\n",
    "print(result)\n",
    "\n",
    "# 情報落ち\n",
    "a = 72365.7\n",
    "b = 1.23659\n",
    "result=Decimal(a)+Decimal(b)\n",
    "print('情報落ち')\n",
    "print(a)\n",
    "print(b)\n",
    "print(a+b)\n",
    "print(result)\n",
    "\n",
    "# 積み残し\n",
    "a = 72365.7\n",
    "b = 0.001\n",
    "result=Decimal(a)+Decimal(b)\n",
    "print('積み残し')\n",
    "print(a)\n",
    "print(b)\n",
    "print(a+b)\n",
    "print(result)"
   ]
  },
  {
   "cell_type": "markdown",
   "metadata": {},
   "source": [
    "## 2.6 課題 p.18  \n",
    "**2**.  10進数4桁の有効桁数を持った計算気になったつもりで，以下の計算を行え．  \n",
    "- (a)  2718-0.5818  \n",
    "- (b)  2718+0.5818  \n",
    "- (c)  2718/0.5818  \n",
    "- (d)  2718*0.5818  \n",
    "\n",
    "**5**. 係数を $a = 1$，$b = 10000000$，$c = 1$ としたときに，通常の解の公式を使った時と，解の係数の関係を使った解とを出力するプログラムを作成し，解を比べよ．\n",
    "2次方程式$ax^{2}+bx+c=0$の係数$a$，$b$，$c$が特殊な値を持つ場合，通常の解の公式\n",
    "$$\n",
    "\\begin{align}\n",
    "x = \\frac{-b\\pm \\sqrt{b^2-4ac}}{2a}\n",
    "\\end{align}\n",
    "$$\n",
    "にしたがって計算するとケタ落ちによる間違った答えを出す．その特殊な値とは  \n",
    "$$\n",
    "\\begin{align}\n",
    "\\sqrt{b^2-4ac}\\approx b\n",
    "\\end{align}\n",
    "$$\n",
    "となる場合である．\n",
    "ケタ落ちを防ぐには，$b>0$の場合は，\n",
    "$$\n",
    "\\begin{align}\n",
    "x_1 = \\frac{-b-\\sqrt{b^2-4ac}}{2a}\n",
    "\\end{align}\n",
    "$$\n",
    "として，ケタ落ちを起こさずに求め，この解を使って，解と係数の関係より\n",
    "$$\n",
    "\\begin{align}\n",
    "x_2 = \\frac{c}{ax_1}\n",
    "\\end{align}\n",
    "$$\n",
    "で求める．$b<0$の場合は，解の公式の足し算の方を使って同様に求める．"
   ]
  },
  {
   "cell_type": "code",
   "execution_count": 6,
   "metadata": {},
   "outputs": [
    {
     "name": "stdout",
     "output_type": "stream",
     "text": [
      "2718\n",
      "0.5818\n",
      "2717.4182\n",
      "2717\n",
      "2718.5818\n",
      "2719\n",
      "4671.708490890341\n",
      "4672\n",
      "1581.3324\n",
      "1581\n"
     ]
    }
   ],
   "source": [
    "# 2\n",
    "getcontext().prec = 4\n",
    "\n",
    "a=2718\n",
    "b=0.5818\n",
    "\n",
    "result1=Decimal(a)-Decimal(b)\n",
    "result2=Decimal(a)+Decimal(b)\n",
    "result3=Decimal(a)/Decimal(b)\n",
    "result4=Decimal(a)*Decimal(b)\n",
    "\n",
    "print(a)\n",
    "print(b)\n",
    "print(a-b)\n",
    "print(result1)\n",
    "print(a+b)\n",
    "print(result2)\n",
    "print(a/b)\n",
    "print(result3)\n",
    "print(a*b)\n",
    "print(result4)"
   ]
  },
  {
   "cell_type": "code",
   "execution_count": 3,
   "metadata": {},
   "outputs": [
    {
     "name": "stdout",
     "output_type": "stream",
     "text": [
      "(-9.9651515483856201e-08, -9999999.9999998994)\n",
      "(-9999999.9999998994, -1.00000000000001e-07)\n"
     ]
    }
   ],
   "source": [
    "# 5\n",
    "def solve_by_formula(a,b,c):\n",
    "    x1 = (-b + np.sqrt(b**2-4*a*c))/(2*a)\n",
    "    x2 = (-b - np.sqrt(b**2-4*a*c))/(2*a)\n",
    "    return (x1, x2)\n",
    "\n",
    "def solve_precise(a,b,c):\n",
    "    if(b>0):\n",
    "        x1 = (-b - np.sqrt(b**2-4*a*c))/(2*a)\n",
    "        x2 = c/(a*x1)\n",
    "        return (x1, x2)\n",
    "    else:\n",
    "        x1 = (-b + np.sqrt(b**2-4*a*c))/(2*a)\n",
    "        x2 = c/(a*x1)\n",
    "        return (x1, x2)\n",
    "\n",
    "print(solve_by_formula(1,10000000,1))\n",
    "print(solve_precise(1,10000000,1))"
   ]
  },
  {
   "cell_type": "code",
   "execution_count": null,
   "metadata": {
    "collapsed": true
   },
   "outputs": [],
   "source": []
  }
 ],
 "metadata": {
  "kernelspec": {
   "display_name": "Python 3",
   "language": "python",
   "name": "python3"
  },
  "language_info": {
   "codemirror_mode": {
    "name": "ipython",
    "version": 3
   },
   "file_extension": ".py",
   "mimetype": "text/x-python",
   "name": "python",
   "nbconvert_exporter": "python",
   "pygments_lexer": "ipython3",
   "version": "3.6.2"
  }
 },
 "nbformat": 4,
 "nbformat_minor": 2
}
