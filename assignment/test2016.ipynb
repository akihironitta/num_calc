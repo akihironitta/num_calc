{
 "cells": [
  {
   "cell_type": "markdown",
   "metadata": {},
   "source": [
    "## [1]\n",
    "次の関数\n",
    "$$\n",
    "f(x)=-3exp(-x)+exp(-3x)\n",
    "$$\n",
    "は $x=-1.0$ に $-1/2ln(3)=-0.5493061445$ を持つ．二分法によって数値解を求めよ.\n",
    "繰り返しは１０回程度でいい．また，収束の様子を片対数グラフでプロットせよ．"
   ]
  },
  {
   "cell_type": "code",
   "execution_count": 2,
   "metadata": {
    "collapsed": false
   },
   "outputs": [
    {
     "name": "stdout",
     "output_type": "stream",
     "text": [
      "x = -0.549306\n"
     ]
    },
    {
     "data": {
      "image/png": "[encoded data removed]",
      "text/plain": [
       "<matplotlib.figure.Figure at 0x10e04f748>"
      ]
     },
     "metadata": {},
     "output_type": "display_data"
    }
   ],
   "source": [
    "import numpy as np\n",
    "import matplotlib.pyplot as plt\n",
    "\n",
    "def func(x):\n",
    "    return -3*np.exp(-x) + np.exp(-3*x)\n",
    "\n",
    "\n",
    "EPS = 0.00000001\n",
    "x_1 = -10\n",
    "x_2 = 10\n",
    "\n",
    "x = [i for i in range(30)]\n",
    "y = []\n",
    "\n",
    "for i in range(len(x)):\n",
    "    \n",
    "    x_s = (x_1 + x_2)/2\n",
    "    y.append(abs(-0.5493061445 - x_s))\n",
    "    if func(x_1)*func(x_s) < 0:\n",
    "        x_2 = x_s\n",
    "    else:\n",
    "        x_1 = x_s\n",
    "    if abs(func(x_s)) < EPS or abs(x_1 - x_2) < EPS:\n",
    "        break\n",
    "\n",
    "print(\"x = %f\" % x_s)\n",
    "\n",
    "plt.plot(x, y)\n",
    "plt.yscale(\"log\")\n",
    "plt.show()\n"
   ]
  },
  {
   "cell_type": "markdown",
   "metadata": {},
   "source": [
    "## [2] (Gauss-Seidelの収束性)\n",
    "初期値を $[0,0,0]^t$ として，$\\textbf{A}(tt)\\textbf{x}=\\textbf{b}$ にガウス・ザイデルによる連立一次方程式の反復解法プログラムを適用する．ただし，\n",
    "$$\n",
    "\\textbf{A}(tt)= \\left(\n",
    "                    \\begin{array}{ccc}\n",
    "                      1 & tt & tt \\\\\n",
    "                      tt & 1 & tt \\\\\n",
    "                      tt & tt & 1\n",
    "                    \\end{array}\n",
    "                \\right),\n",
    "\\textbf{b}= \\left(\n",
    "                \\begin{array}{c}\n",
    "                  2 \\\\\n",
    "                  2 \\\\\n",
    "                  2\n",
    "                \\end{array}\n",
    "            \\right)\n",
    "$$\n",
    "である．$tt=0.2, 0.5, 0.9$ に対して有効数字６桁の解を得るための**反復回数**を求めよ．"
   ]
  },
  {
   "cell_type": "code",
   "execution_count": 3,
   "metadata": {
    "collapsed": false
   },
   "outputs": [
    {
     "name": "stdout",
     "output_type": "stream",
     "text": [
      "tt = 0.2\n",
      "counter = 28\n",
      "x= [ 1.42857143  1.42857143  1.42857143]\n",
      "\n",
      "\n",
      "tt = 0.5\n",
      "counter = 22\n",
      "x= [ 1.  1.  1.]\n",
      "\n",
      "\n",
      "tt = 0.9\n",
      "counter = 123\n",
      "x= [ 0.71428571  0.71428571  0.71428572]\n",
      "\n",
      "\n"
     ]
    }
   ],
   "source": [
    "#from decimal import *\n",
    "#getcontext().prec = 6\n",
    "\n",
    "\n",
    "def gauss_sidel(A, b, tol):\n",
    "    \"\"\"\n",
    "    行列Aとベクトルb，交差(許し代)tolから収束解とその解を得るまでの反復回数を返す\n",
    "    \"\"\"\n",
    "    x_pre = np.empty_like(b)\n",
    "    error = 1e12\n",
    "    \n",
    "    L = np.tril(A)\n",
    "    U = A - L\n",
    "    L_inv = np.linalg.inv(L)\n",
    "    \n",
    "    counter = 0\n",
    "    while error > tol: # 許容範囲になるまで\n",
    "        x = np.dot(L_inv, b-np.dot(U, x_pre))\n",
    "        error = np.linalg.norm(x-x_pre)/np.linalg.norm(x)\n",
    "        x_pre = x\n",
    "        counter += 1\n",
    "    return x, counter\n",
    "\n",
    "tt = [0.2, 0.5, 0.9]\n",
    "b = np.array([2, 2, 2])\n",
    "\n",
    "for i in range(3):\n",
    "    t = tt[i]\n",
    "    A =  np.array([[1, t, t],\n",
    "                   [t, 1, t],\n",
    "                   [t, t, 1]])\n",
    "    x, counter = gauss_sidel(A, b, 1e-9)\n",
    "    \n",
    "    print(\"tt = {}\".format(t))\n",
    "    print(\"counter = {}\".format(counter))\n",
    "    print(\"x= {}\".format(x))\n",
    "    print(\"\\n\")\n",
    "    "
   ]
  },
  {
   "cell_type": "code",
   "execution_count": null,
   "metadata": {
    "collapsed": true
   },
   "outputs": [],
   "source": []
  }
 ],
 "metadata": {
  "kernelspec": {
   "display_name": "Python 3",
   "language": "python",
   "name": "python3"
  },
  "language_info": {
   "codemirror_mode": {
    "name": "ipython",
    "version": 3
   },
   "file_extension": ".py",
   "mimetype": "text/x-python",
   "name": "python",
   "nbconvert_exporter": "python",
   "pygments_lexer": "ipython3",
   "version": "3.6.0"
  }
 },
 "nbformat": 4,
 "nbformat_minor": 2
}
