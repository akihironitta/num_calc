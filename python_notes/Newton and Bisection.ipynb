{
 "cells": [
  {
   "cell_type": "markdown",
   "metadata": {},
   "source": [
    "# 数値計算 - *Newton and Bisection Method* - \n",
    "- **Team**: へび  \n",
    "- **Members**:  \n",
    "    + #5501 Kazunori Sakai  \n",
    "    + #5531 Akihiro Nitta  \n",
    "    + #5557 Yuki Kotakehara  \n",
    "$$\n",
    "\\begin{align}\n",
    "\\sum_{k=1}^{\\infty} \\frac{1}{k^2} = \\frac{\\pi^2}{6}\n",
    "\\end{align}\n",
    "$$\n",
    "---\n",
    "\n",
    "## 使い方  \n",
    "- scipy の optimizeメソッド を import する．  \n",
    "- 最適化する対象の関数を用意する．  \n",
    "    - 二分法はその関数だけ用意する．  \n",
    "    - ニュートン法だと一階導関数も使うので，元の関数と手計算した導関数を用意する．  \n",
    "- **二分法** :: ```scipy.optimize.bisect(*関数*, *初期値1*, *初期値2*)```  \n",
    "- **ニュートン法** :: ```scipy.optimize.bisect(*関数*, *初期値*, *導関数*)```  \n",
    "\n",
    "### 注意点  \n",
    "#### scipy.optimize.bisect  \n",
    "- f(a) と f(b) の値は正負，どっちかじゃないとエラーがでる．　 \n",
    "> ```ValueError: f(a) and f(b) must have different signs```  \n"
   ]
  },
  {
   "cell_type": "code",
   "execution_count": 13,
   "metadata": {},
   "outputs": [
    {
     "name": "stdout",
     "output_type": "stream",
     "text": [
      "bisection: 0.6931471805603451\n",
      "newton: 0.69314718056\n"
     ]
    }
   ],
   "source": [
    "import numpy as np\n",
    "from scipy import optimize\n",
    "\n",
    "def f(x):\n",
    "    return np.exp(-x)-2*np.exp(-2*x)\n",
    "\n",
    "def df(x):\n",
    "    return -np.exp(-x)+4*np.exp(-2*x)\n",
    "\n",
    "## bisection\n",
    "solution1 = optimize.bisect(f, -5, 5)\n",
    "\n",
    "## Newton\n",
    "solution2 = optimize.newton(f, 1, df)\n",
    "\n",
    "print('bisection: ' + str(solution1))\n",
    "print('newton: ' + str(solution2))"
   ]
  },
  {
   "cell_type": "code",
   "execution_count": 20,
   "metadata": {},
   "outputs": [
    {
     "name": "stdout",
     "output_type": "stream",
     "text": [
      "newton: 3.1622776601683795\n",
      "bisection: -3.1622776601668647\n"
     ]
    }
   ],
   "source": [
    "def function(x):\n",
    "    return x**2 -10\n",
    "\n",
    "def dfunction(x):\n",
    "    return 2*x\n",
    "\n",
    "# Newton method\n",
    "solution_newton = optimize.newton(function, 10.0, dfunction)\n",
    "print('newton: ' + str(solution_newton))\n",
    "\n",
    "# Bisection method\n",
    "solution_bisection = optimize.bisect(function, -5.0, 2.0)\n",
    "print('bisection: ' + str(solution_bisection))"
   ]
  }
 ],
 "metadata": {
  "kernelspec": {
   "display_name": "Python 3",
   "language": "python",
   "name": "python3"
  },
  "language_info": {
   "codemirror_mode": {
    "name": "ipython",
    "version": 3
   },
   "file_extension": ".py",
   "mimetype": "text/x-python",
   "name": "python",
   "nbconvert_exporter": "python",
   "pygments_lexer": "ipython3",
   "version": "3.6.1"
  }
 },
 "nbformat": 4,
 "nbformat_minor": 2
}
